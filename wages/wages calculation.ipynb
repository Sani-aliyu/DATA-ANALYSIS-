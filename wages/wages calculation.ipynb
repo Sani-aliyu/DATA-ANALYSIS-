{
 "cells": [
  {
   "cell_type": "markdown",
   "id": "730fb55b",
   "metadata": {},
   "source": [
    "# Exploratory data Analysis"
   ]
  },
  {
   "cell_type": "markdown",
   "id": "77bb8d60",
   "metadata": {},
   "source": [
    "## Importing packages"
   ]
  },
  {
   "cell_type": "code",
   "execution_count": 1,
   "id": "8b7fe7b7",
   "metadata": {},
   "outputs": [],
   "source": [
    "import pandas as pd\n",
    "import numpy as np\n",
    "import matplotlib.pyplot as plt\n",
    "import seaborn as sns\n",
    "from scipy.stats import *\n",
    "import warnings"
   ]
  },
  {
   "cell_type": "markdown",
   "id": "dc9053c6",
   "metadata": {},
   "source": [
    "## Reading the dataset\n"
   ]
  },
  {
   "cell_type": "code",
   "execution_count": 2,
   "id": "5e88d785",
   "metadata": {},
   "outputs": [],
   "source": [
    "df = pd.read_csv(\"wage.csv\")"
   ]
  },
  {
   "cell_type": "code",
   "execution_count": 3,
   "id": "cb3a1fb1",
   "metadata": {},
   "outputs": [
    {
     "data": {
      "text/html": [
       "<div>\n",
       "<style scoped>\n",
       "    .dataframe tbody tr th:only-of-type {\n",
       "        vertical-align: middle;\n",
       "    }\n",
       "\n",
       "    .dataframe tbody tr th {\n",
       "        vertical-align: top;\n",
       "    }\n",
       "\n",
       "    .dataframe thead th {\n",
       "        text-align: right;\n",
       "    }\n",
       "</style>\n",
       "<table border=\"1\" class=\"dataframe\">\n",
       "  <thead>\n",
       "    <tr style=\"text-align: right;\">\n",
       "      <th></th>\n",
       "      <th>married</th>\n",
       "      <th>hourly_wage</th>\n",
       "      <th>years_in_education</th>\n",
       "      <th>years_in_employment</th>\n",
       "      <th>num_dependents</th>\n",
       "      <th>gender</th>\n",
       "      <th>race</th>\n",
       "    </tr>\n",
       "  </thead>\n",
       "  <tbody>\n",
       "    <tr>\n",
       "      <th>0</th>\n",
       "      <td>1.0</td>\n",
       "      <td>3.24</td>\n",
       "      <td>12.0</td>\n",
       "      <td>2.0</td>\n",
       "      <td>3.0</td>\n",
       "      <td>female</td>\n",
       "      <td>white</td>\n",
       "    </tr>\n",
       "    <tr>\n",
       "      <th>1</th>\n",
       "      <td>0.0</td>\n",
       "      <td>3.00</td>\n",
       "      <td>11.0</td>\n",
       "      <td>0.0</td>\n",
       "      <td>2.0</td>\n",
       "      <td>male</td>\n",
       "      <td>white</td>\n",
       "    </tr>\n",
       "    <tr>\n",
       "      <th>2</th>\n",
       "      <td>1.0</td>\n",
       "      <td>6.00</td>\n",
       "      <td>8.0</td>\n",
       "      <td>28.0</td>\n",
       "      <td>0.0</td>\n",
       "      <td>male</td>\n",
       "      <td>white</td>\n",
       "    </tr>\n",
       "    <tr>\n",
       "      <th>3</th>\n",
       "      <td>1.0</td>\n",
       "      <td>5.30</td>\n",
       "      <td>12.0</td>\n",
       "      <td>2.0</td>\n",
       "      <td>1.0</td>\n",
       "      <td>male</td>\n",
       "      <td>white</td>\n",
       "    </tr>\n",
       "    <tr>\n",
       "      <th>4</th>\n",
       "      <td>1.0</td>\n",
       "      <td>8.75</td>\n",
       "      <td>16.0</td>\n",
       "      <td>8.0</td>\n",
       "      <td>0.0</td>\n",
       "      <td>male</td>\n",
       "      <td>white</td>\n",
       "    </tr>\n",
       "    <tr>\n",
       "      <th>...</th>\n",
       "      <td>...</td>\n",
       "      <td>...</td>\n",
       "      <td>...</td>\n",
       "      <td>...</td>\n",
       "      <td>...</td>\n",
       "      <td>...</td>\n",
       "      <td>...</td>\n",
       "    </tr>\n",
       "    <tr>\n",
       "      <th>520</th>\n",
       "      <td>1.0</td>\n",
       "      <td>15.00</td>\n",
       "      <td>16.0</td>\n",
       "      <td>2.0</td>\n",
       "      <td>2.0</td>\n",
       "      <td>female</td>\n",
       "      <td>white</td>\n",
       "    </tr>\n",
       "    <tr>\n",
       "      <th>521</th>\n",
       "      <td>0.0</td>\n",
       "      <td>2.27</td>\n",
       "      <td>10.0</td>\n",
       "      <td>0.0</td>\n",
       "      <td>3.0</td>\n",
       "      <td>female</td>\n",
       "      <td>white</td>\n",
       "    </tr>\n",
       "    <tr>\n",
       "      <th>522</th>\n",
       "      <td>1.0</td>\n",
       "      <td>4.67</td>\n",
       "      <td>15.0</td>\n",
       "      <td>18.0</td>\n",
       "      <td>3.0</td>\n",
       "      <td>male</td>\n",
       "      <td>white</td>\n",
       "    </tr>\n",
       "    <tr>\n",
       "      <th>523</th>\n",
       "      <td>1.0</td>\n",
       "      <td>11.56</td>\n",
       "      <td>16.0</td>\n",
       "      <td>1.0</td>\n",
       "      <td>0.0</td>\n",
       "      <td>male</td>\n",
       "      <td>white</td>\n",
       "    </tr>\n",
       "    <tr>\n",
       "      <th>524</th>\n",
       "      <td>0.0</td>\n",
       "      <td>NaN</td>\n",
       "      <td>14.0</td>\n",
       "      <td>4.0</td>\n",
       "      <td>2.0</td>\n",
       "      <td>female</td>\n",
       "      <td>nonwhite</td>\n",
       "    </tr>\n",
       "  </tbody>\n",
       "</table>\n",
       "<p>525 rows × 7 columns</p>\n",
       "</div>"
      ],
      "text/plain": [
       "     married  hourly_wage  years_in_education  years_in_employment  \\\n",
       "0        1.0         3.24                12.0                  2.0   \n",
       "1        0.0         3.00                11.0                  0.0   \n",
       "2        1.0         6.00                 8.0                 28.0   \n",
       "3        1.0         5.30                12.0                  2.0   \n",
       "4        1.0         8.75                16.0                  8.0   \n",
       "..       ...          ...                 ...                  ...   \n",
       "520      1.0        15.00                16.0                  2.0   \n",
       "521      0.0         2.27                10.0                  0.0   \n",
       "522      1.0         4.67                15.0                 18.0   \n",
       "523      1.0        11.56                16.0                  1.0   \n",
       "524      0.0          NaN                14.0                  4.0   \n",
       "\n",
       "     num_dependents  gender      race  \n",
       "0               3.0  female     white  \n",
       "1               2.0    male     white  \n",
       "2               0.0    male     white  \n",
       "3               1.0    male     white  \n",
       "4               0.0    male     white  \n",
       "..              ...     ...       ...  \n",
       "520             2.0  female     white  \n",
       "521             3.0  female     white  \n",
       "522             3.0    male     white  \n",
       "523             0.0    male     white  \n",
       "524             2.0  female  nonwhite  \n",
       "\n",
       "[525 rows x 7 columns]"
      ]
     },
     "execution_count": 3,
     "metadata": {},
     "output_type": "execute_result"
    }
   ],
   "source": [
    "df"
   ]
  },
  {
   "cell_type": "markdown",
   "id": "56c7343c",
   "metadata": {},
   "source": [
    "viewing the data in the dataset to help guide us."
   ]
  },
  {
   "cell_type": "markdown",
   "id": "ecb25372",
   "metadata": {},
   "source": [
    "## 1. Desciptive statistics on the dataset"
   ]
  },
  {
   "cell_type": "code",
   "execution_count": 4,
   "id": "3cb588fd",
   "metadata": {},
   "outputs": [
    {
     "data": {
      "text/html": [
       "<div>\n",
       "<style scoped>\n",
       "    .dataframe tbody tr th:only-of-type {\n",
       "        vertical-align: middle;\n",
       "    }\n",
       "\n",
       "    .dataframe tbody tr th {\n",
       "        vertical-align: top;\n",
       "    }\n",
       "\n",
       "    .dataframe thead th {\n",
       "        text-align: right;\n",
       "    }\n",
       "</style>\n",
       "<table border=\"1\" class=\"dataframe\">\n",
       "  <thead>\n",
       "    <tr style=\"text-align: right;\">\n",
       "      <th></th>\n",
       "      <th>married</th>\n",
       "      <th>hourly_wage</th>\n",
       "      <th>years_in_education</th>\n",
       "      <th>years_in_employment</th>\n",
       "      <th>num_dependents</th>\n",
       "    </tr>\n",
       "  </thead>\n",
       "  <tbody>\n",
       "    <tr>\n",
       "      <th>count</th>\n",
       "      <td>522.000000</td>\n",
       "      <td>517.000000</td>\n",
       "      <td>522.000000</td>\n",
       "      <td>519.000000</td>\n",
       "      <td>520.000000</td>\n",
       "    </tr>\n",
       "    <tr>\n",
       "      <th>mean</th>\n",
       "      <td>0.609195</td>\n",
       "      <td>5.917737</td>\n",
       "      <td>12.557471</td>\n",
       "      <td>5.152216</td>\n",
       "      <td>1.044231</td>\n",
       "    </tr>\n",
       "    <tr>\n",
       "      <th>std</th>\n",
       "      <td>0.488399</td>\n",
       "      <td>3.699058</td>\n",
       "      <td>2.757219</td>\n",
       "      <td>7.257133</td>\n",
       "      <td>1.258484</td>\n",
       "    </tr>\n",
       "    <tr>\n",
       "      <th>min</th>\n",
       "      <td>0.000000</td>\n",
       "      <td>0.530000</td>\n",
       "      <td>0.000000</td>\n",
       "      <td>0.000000</td>\n",
       "      <td>0.000000</td>\n",
       "    </tr>\n",
       "    <tr>\n",
       "      <th>25%</th>\n",
       "      <td>0.000000</td>\n",
       "      <td>3.350000</td>\n",
       "      <td>12.000000</td>\n",
       "      <td>0.000000</td>\n",
       "      <td>0.000000</td>\n",
       "    </tr>\n",
       "    <tr>\n",
       "      <th>50%</th>\n",
       "      <td>1.000000</td>\n",
       "      <td>4.670000</td>\n",
       "      <td>12.000000</td>\n",
       "      <td>2.000000</td>\n",
       "      <td>1.000000</td>\n",
       "    </tr>\n",
       "    <tr>\n",
       "      <th>75%</th>\n",
       "      <td>1.000000</td>\n",
       "      <td>6.880000</td>\n",
       "      <td>14.000000</td>\n",
       "      <td>7.000000</td>\n",
       "      <td>2.000000</td>\n",
       "    </tr>\n",
       "    <tr>\n",
       "      <th>max</th>\n",
       "      <td>1.000000</td>\n",
       "      <td>24.980000</td>\n",
       "      <td>18.000000</td>\n",
       "      <td>44.000000</td>\n",
       "      <td>6.000000</td>\n",
       "    </tr>\n",
       "  </tbody>\n",
       "</table>\n",
       "</div>"
      ],
      "text/plain": [
       "          married  hourly_wage  years_in_education  years_in_employment  \\\n",
       "count  522.000000   517.000000          522.000000           519.000000   \n",
       "mean     0.609195     5.917737           12.557471             5.152216   \n",
       "std      0.488399     3.699058            2.757219             7.257133   \n",
       "min      0.000000     0.530000            0.000000             0.000000   \n",
       "25%      0.000000     3.350000           12.000000             0.000000   \n",
       "50%      1.000000     4.670000           12.000000             2.000000   \n",
       "75%      1.000000     6.880000           14.000000             7.000000   \n",
       "max      1.000000    24.980000           18.000000            44.000000   \n",
       "\n",
       "       num_dependents  \n",
       "count      520.000000  \n",
       "mean         1.044231  \n",
       "std          1.258484  \n",
       "min          0.000000  \n",
       "25%          0.000000  \n",
       "50%          1.000000  \n",
       "75%          2.000000  \n",
       "max          6.000000  "
      ]
     },
     "execution_count": 4,
     "metadata": {},
     "output_type": "execute_result"
    }
   ],
   "source": [
    "df.describe()"
   ]
  },
  {
   "cell_type": "markdown",
   "id": "35c341a3",
   "metadata": {},
   "source": [
    "Conclusion: The above statistics shows results describing the variables in terms of;\n",
    "\n",
    "    count: showing the number of not empty values\n",
    "    mean: showing the average mean of each variable\n",
    "    std: showing the standard deviation of each variable\n",
    "    min: the minimum value in that variables dataset\n",
    "    max: the maximum value in the variables dataset\n",
    "    Percentages( 25% , 50% , 75%): showing the percentiles. meaning how many of the value are less than the given percentile"
   ]
  },
  {
   "cell_type": "markdown",
   "id": "e9dce13a",
   "metadata": {},
   "source": [
    "## 2. checking if any records in the data the has missing values"
   ]
  },
  {
   "cell_type": "code",
   "execution_count": 5,
   "id": "6bfe6f2c",
   "metadata": {},
   "outputs": [
    {
     "data": {
      "text/plain": [
       "married                 3\n",
       "hourly_wage             8\n",
       "years_in_education      3\n",
       "years_in_employment     6\n",
       "num_dependents          5\n",
       "gender                  4\n",
       "race                   10\n",
       "dtype: int64"
      ]
     },
     "execution_count": 5,
     "metadata": {},
     "output_type": "execute_result"
    }
   ],
   "source": [
    "df.isna().sum()"
   ]
  },
  {
   "cell_type": "markdown",
   "id": "116486ce",
   "metadata": {},
   "source": [
    "Conclusion: From the above informations it can be seen that multiple records or variables have some missing values in them"
   ]
  },
  {
   "cell_type": "markdown",
   "id": "fafcfc56",
   "metadata": {},
   "source": [
    "## Deleting records with null or missing values"
   ]
  },
  {
   "cell_type": "code",
   "execution_count": 6,
   "id": "51a02f12",
   "metadata": {},
   "outputs": [
    {
     "data": {
      "text/html": [
       "<div>\n",
       "<style scoped>\n",
       "    .dataframe tbody tr th:only-of-type {\n",
       "        vertical-align: middle;\n",
       "    }\n",
       "\n",
       "    .dataframe tbody tr th {\n",
       "        vertical-align: top;\n",
       "    }\n",
       "\n",
       "    .dataframe thead th {\n",
       "        text-align: right;\n",
       "    }\n",
       "</style>\n",
       "<table border=\"1\" class=\"dataframe\">\n",
       "  <thead>\n",
       "    <tr style=\"text-align: right;\">\n",
       "      <th></th>\n",
       "      <th>married</th>\n",
       "      <th>hourly_wage</th>\n",
       "      <th>years_in_education</th>\n",
       "      <th>years_in_employment</th>\n",
       "      <th>num_dependents</th>\n",
       "      <th>gender</th>\n",
       "      <th>race</th>\n",
       "    </tr>\n",
       "  </thead>\n",
       "  <tbody>\n",
       "    <tr>\n",
       "      <th>0</th>\n",
       "      <td>1.0</td>\n",
       "      <td>3.24</td>\n",
       "      <td>12.0</td>\n",
       "      <td>2.0</td>\n",
       "      <td>3.0</td>\n",
       "      <td>female</td>\n",
       "      <td>white</td>\n",
       "    </tr>\n",
       "    <tr>\n",
       "      <th>1</th>\n",
       "      <td>0.0</td>\n",
       "      <td>3.00</td>\n",
       "      <td>11.0</td>\n",
       "      <td>0.0</td>\n",
       "      <td>2.0</td>\n",
       "      <td>male</td>\n",
       "      <td>white</td>\n",
       "    </tr>\n",
       "    <tr>\n",
       "      <th>2</th>\n",
       "      <td>1.0</td>\n",
       "      <td>6.00</td>\n",
       "      <td>8.0</td>\n",
       "      <td>28.0</td>\n",
       "      <td>0.0</td>\n",
       "      <td>male</td>\n",
       "      <td>white</td>\n",
       "    </tr>\n",
       "    <tr>\n",
       "      <th>3</th>\n",
       "      <td>1.0</td>\n",
       "      <td>5.30</td>\n",
       "      <td>12.0</td>\n",
       "      <td>2.0</td>\n",
       "      <td>1.0</td>\n",
       "      <td>male</td>\n",
       "      <td>white</td>\n",
       "    </tr>\n",
       "    <tr>\n",
       "      <th>4</th>\n",
       "      <td>1.0</td>\n",
       "      <td>8.75</td>\n",
       "      <td>16.0</td>\n",
       "      <td>8.0</td>\n",
       "      <td>0.0</td>\n",
       "      <td>male</td>\n",
       "      <td>white</td>\n",
       "    </tr>\n",
       "    <tr>\n",
       "      <th>...</th>\n",
       "      <td>...</td>\n",
       "      <td>...</td>\n",
       "      <td>...</td>\n",
       "      <td>...</td>\n",
       "      <td>...</td>\n",
       "      <td>...</td>\n",
       "      <td>...</td>\n",
       "    </tr>\n",
       "    <tr>\n",
       "      <th>519</th>\n",
       "      <td>0.0</td>\n",
       "      <td>5.65</td>\n",
       "      <td>12.0</td>\n",
       "      <td>0.0</td>\n",
       "      <td>0.0</td>\n",
       "      <td>male</td>\n",
       "      <td>white</td>\n",
       "    </tr>\n",
       "    <tr>\n",
       "      <th>520</th>\n",
       "      <td>1.0</td>\n",
       "      <td>15.00</td>\n",
       "      <td>16.0</td>\n",
       "      <td>2.0</td>\n",
       "      <td>2.0</td>\n",
       "      <td>female</td>\n",
       "      <td>white</td>\n",
       "    </tr>\n",
       "    <tr>\n",
       "      <th>521</th>\n",
       "      <td>0.0</td>\n",
       "      <td>2.27</td>\n",
       "      <td>10.0</td>\n",
       "      <td>0.0</td>\n",
       "      <td>3.0</td>\n",
       "      <td>female</td>\n",
       "      <td>white</td>\n",
       "    </tr>\n",
       "    <tr>\n",
       "      <th>522</th>\n",
       "      <td>1.0</td>\n",
       "      <td>4.67</td>\n",
       "      <td>15.0</td>\n",
       "      <td>18.0</td>\n",
       "      <td>3.0</td>\n",
       "      <td>male</td>\n",
       "      <td>white</td>\n",
       "    </tr>\n",
       "    <tr>\n",
       "      <th>523</th>\n",
       "      <td>1.0</td>\n",
       "      <td>11.56</td>\n",
       "      <td>16.0</td>\n",
       "      <td>1.0</td>\n",
       "      <td>0.0</td>\n",
       "      <td>male</td>\n",
       "      <td>white</td>\n",
       "    </tr>\n",
       "  </tbody>\n",
       "</table>\n",
       "<p>487 rows × 7 columns</p>\n",
       "</div>"
      ],
      "text/plain": [
       "     married  hourly_wage  years_in_education  years_in_employment  \\\n",
       "0        1.0         3.24                12.0                  2.0   \n",
       "1        0.0         3.00                11.0                  0.0   \n",
       "2        1.0         6.00                 8.0                 28.0   \n",
       "3        1.0         5.30                12.0                  2.0   \n",
       "4        1.0         8.75                16.0                  8.0   \n",
       "..       ...          ...                 ...                  ...   \n",
       "519      0.0         5.65                12.0                  0.0   \n",
       "520      1.0        15.00                16.0                  2.0   \n",
       "521      0.0         2.27                10.0                  0.0   \n",
       "522      1.0         4.67                15.0                 18.0   \n",
       "523      1.0        11.56                16.0                  1.0   \n",
       "\n",
       "     num_dependents  gender   race  \n",
       "0               3.0  female  white  \n",
       "1               2.0    male  white  \n",
       "2               0.0    male  white  \n",
       "3               1.0    male  white  \n",
       "4               0.0    male  white  \n",
       "..              ...     ...    ...  \n",
       "519             0.0    male  white  \n",
       "520             2.0  female  white  \n",
       "521             3.0  female  white  \n",
       "522             3.0    male  white  \n",
       "523             0.0    male  white  \n",
       "\n",
       "[487 rows x 7 columns]"
      ]
     },
     "execution_count": 6,
     "metadata": {},
     "output_type": "execute_result"
    }
   ],
   "source": [
    "df = df.dropna()\n",
    "df"
   ]
  },
  {
   "cell_type": "markdown",
   "id": "d7a25b48",
   "metadata": {},
   "source": [
    "Conclusion: It can be seen that records with missing values have been successfully deleted. previously we had record number 524 with a missing value in it hourly_wage column, but now it cannot be found, meaning it has been deleted."
   ]
  },
  {
   "cell_type": "markdown",
   "id": "9af0f640",
   "metadata": {},
   "source": [
    "### Rechecking for missing values to confirm record deletion"
   ]
  },
  {
   "cell_type": "code",
   "execution_count": 7,
   "id": "bb965a2c",
   "metadata": {},
   "outputs": [
    {
     "data": {
      "text/plain": [
       "married                0\n",
       "hourly_wage            0\n",
       "years_in_education     0\n",
       "years_in_employment    0\n",
       "num_dependents         0\n",
       "gender                 0\n",
       "race                   0\n",
       "dtype: int64"
      ]
     },
     "execution_count": 7,
     "metadata": {},
     "output_type": "execute_result"
    }
   ],
   "source": [
    "df.isna().sum()"
   ]
  },
  {
   "cell_type": "markdown",
   "id": "ff79c013",
   "metadata": {},
   "source": [
    "Rechecking for the missing values since we cannot go through all the records because it is some how large"
   ]
  },
  {
   "cell_type": "markdown",
   "id": "33873a89",
   "metadata": {},
   "source": [
    "## 3. Graph visualising the distribution of an individual continuos variable(hourly_wage)"
   ]
  },
  {
   "cell_type": "code",
   "execution_count": 8,
   "id": "681bf281",
   "metadata": {},
   "outputs": [
    {
     "data": {
      "text/plain": [
       "<seaborn.axisgrid.FacetGrid at 0x1fa5892ae20>"
      ]
     },
     "execution_count": 8,
     "metadata": {},
     "output_type": "execute_result"
    },
    {
     "data": {
      "image/png": "[encoded data removed]",
      "text/plain": [
       "<Figure size 360x360 with 1 Axes>"
      ]
     },
     "metadata": {
      "needs_background": "light"
     },
     "output_type": "display_data"
    }
   ],
   "source": [
    "sns.displot(df.hourly_wage,kde=True)"
   ]
  },
  {
   "cell_type": "markdown",
   "id": "3bc71d35",
   "metadata": {},
   "source": [
    "Conclusion: From the above distribution it can be seen that the graph is not normally distributed but rather, it has a positively skewed distribution which tells us that the mean is greater than the median as the data is more towards the lower side."
   ]
  },
  {
   "cell_type": "code",
   "execution_count": 9,
   "id": "4e79945e",
   "metadata": {},
   "outputs": [
    {
     "data": {
      "image/png": "[encoded data removed]",
      "text/plain": [
       "<Figure size 432x288 with 2 Axes>"
      ]
     },
     "metadata": {
      "needs_background": "light"
     },
     "output_type": "display_data"
    }
   ],
   "source": [
    "sns.heatmap(df.corr(), annot = True)\n",
    "plt.show()"
   ]
  },
  {
   "cell_type": "markdown",
   "id": "09eb0b53",
   "metadata": {},
   "source": [
    "conclusion: The heatmap shows a numerical representation of the correlation between variables. which shows that years_in_education has the highest correlation to hourly_wage since, 0.4 is the closest to 1."
   ]
  },
  {
   "cell_type": "markdown",
   "id": "e3874c98",
   "metadata": {},
   "source": [
    "## 4. visualising relationship in a pair of continuous variable "
   ]
  },
  {
   "cell_type": "code",
   "execution_count": 10,
   "id": "f38be4f6",
   "metadata": {},
   "outputs": [
    {
     "data": {
      "image/png": "[encoded data removed]",
      "text/plain": [
       "<Figure size 288x288 with 1 Axes>"
      ]
     },
     "metadata": {
      "needs_background": "light"
     },
     "output_type": "display_data"
    }
   ],
   "source": [
    "sns.pairplot(df, x_vars='years_in_education', y_vars='hourly_wage', height=4, aspect=1, kind='scatter')\n",
    "plt.show()"
   ]
  },
  {
   "cell_type": "markdown",
   "id": "22168181",
   "metadata": {},
   "source": [
    "Conclusion: years_in_education is strongly,low positively,non linearly correlated with hourly_wage"
   ]
  },
  {
   "cell_type": "markdown",
   "id": "edc6e592",
   "metadata": {},
   "source": [
    "## 5. Displaying unique values of the categorical variable \"gender\""
   ]
  },
  {
   "cell_type": "code",
   "execution_count": 11,
   "id": "c98a8498",
   "metadata": {},
   "outputs": [
    {
     "data": {
      "text/plain": [
       "array(['female', 'male'], dtype=object)"
      ]
     },
     "execution_count": 11,
     "metadata": {},
     "output_type": "execute_result"
    }
   ],
   "source": [
    "df.gender.unique()"
   ]
  },
  {
   "cell_type": "markdown",
   "id": "4445e588",
   "metadata": {},
   "source": [
    "Conclusion: It can be seen that the categorical variable has only two unique values which are; male and female"
   ]
  },
  {
   "cell_type": "markdown",
   "id": "d06e74ea",
   "metadata": {},
   "source": [
    "## 6. contingency table for 2 potentially related categorical variable"
   ]
  },
  {
   "cell_type": "code",
   "execution_count": 12,
   "id": "f6d4b333",
   "metadata": {},
   "outputs": [
    {
     "data": {
      "text/html": [
       "<div>\n",
       "<style scoped>\n",
       "    .dataframe tbody tr th:only-of-type {\n",
       "        vertical-align: middle;\n",
       "    }\n",
       "\n",
       "    .dataframe tbody tr th {\n",
       "        vertical-align: top;\n",
       "    }\n",
       "\n",
       "    .dataframe thead th {\n",
       "        text-align: right;\n",
       "    }\n",
       "</style>\n",
       "<table border=\"1\" class=\"dataframe\">\n",
       "  <thead>\n",
       "    <tr style=\"text-align: right;\">\n",
       "      <th>married</th>\n",
       "      <th>0.0</th>\n",
       "      <th>1.0</th>\n",
       "    </tr>\n",
       "    <tr>\n",
       "      <th>gender</th>\n",
       "      <th></th>\n",
       "      <th></th>\n",
       "    </tr>\n",
       "  </thead>\n",
       "  <tbody>\n",
       "    <tr>\n",
       "      <th>female</th>\n",
       "      <td>107</td>\n",
       "      <td>124</td>\n",
       "    </tr>\n",
       "    <tr>\n",
       "      <th>male</th>\n",
       "      <td>82</td>\n",
       "      <td>174</td>\n",
       "    </tr>\n",
       "  </tbody>\n",
       "</table>\n",
       "</div>"
      ],
      "text/plain": [
       "married  0.0  1.0\n",
       "gender           \n",
       "female   107  124\n",
       "male      82  174"
      ]
     },
     "execution_count": 12,
     "metadata": {},
     "output_type": "execute_result"
    }
   ],
   "source": [
    "contingency = pd.crosstab(df['gender'],df['married'])\n",
    "contingency "
   ]
  },
  {
   "cell_type": "markdown",
   "id": "9591234f",
   "metadata": {},
   "source": [
    "Conclusion: The contingency table shows the number of males and females who are married and the ones not married"
   ]
  },
  {
   "cell_type": "markdown",
   "id": "f103332c",
   "metadata": {},
   "source": [
    "### Statistical test of independence for the 2 categorical variables in the contingency table"
   ]
  },
  {
   "cell_type": "code",
   "execution_count": 13,
   "id": "18ca9762",
   "metadata": {},
   "outputs": [
    {
     "name": "stdout",
     "output_type": "stream",
     "text": [
      "the computed chi -square value:  9.847248448798311\n",
      "the computed chi -square p-value:  0.0017008597274905852\n",
      "the degree of freedom:  1\n",
      "the expected result:  [[ 89.64887064 141.35112936]\n",
      " [ 99.35112936 156.64887064]]\n"
     ]
    }
   ],
   "source": [
    "chi2, p, dof, expected = chi2_contingency(contingency)\n",
    "\n",
    "print(\"the computed chi -square value: \", chi2)\n",
    "print(\"the computed chi -square p-value: \", p)\n",
    "print(\"the degree of freedom: \", dof)\n",
    "print(\"the expected result: \", expected)"
   ]
  },
  {
   "cell_type": "markdown",
   "id": "86174f02",
   "metadata": {},
   "source": [
    "Conclusion: The chi square value is 9.85. The chance of such a value in the contingency if there is no association between the 2 categorical  variable is 0.002 which is called the p-value or significance. Usually if the p-value is below 0.05 which in this case it is, indicates that there is an association or dependence between the 2 variables.\n",
    "The df(degree of freedom) is an indication of the size of our contigency table.\n",
    "The expected results are the counts to be expected if the 2 variables had no influence on each other."
   ]
  },
  {
   "cell_type": "markdown",
   "id": "fb8cc1b6",
   "metadata": {},
   "source": [
    "## 7. retrieving subsets of the data "
   ]
  },
  {
   "cell_type": "markdown",
   "id": "e07bba05",
   "metadata": {},
   "source": [
    "criteria for retrieving subsets\n",
    "1. married must be yes = 1.0\n",
    "2. hourly wage should be equal or greater than 5\n",
    "3. years in education should be equal or greater than 10"
   ]
  },
  {
   "cell_type": "code",
   "execution_count": 14,
   "id": "50e3a35b",
   "metadata": {
    "scrolled": true
   },
   "outputs": [],
   "source": [
    "#defining the criteria for the subset\n",
    "subset_criteria=df[(df['married']==1.0)&(df['hourly_wage']>=5)&(df['years_in_education']>=10)]\n",
    "\n",
    "#dropping other columns from the subset dataframe\n",
    "subset=subset_criteria.drop(['race','num_dependents','years_in_employment','gender'],axis=1)"
   ]
  },
  {
   "cell_type": "code",
   "execution_count": 15,
   "id": "d8b76df9",
   "metadata": {},
   "outputs": [
    {
     "data": {
      "text/html": [
       "<div>\n",
       "<style scoped>\n",
       "    .dataframe tbody tr th:only-of-type {\n",
       "        vertical-align: middle;\n",
       "    }\n",
       "\n",
       "    .dataframe tbody tr th {\n",
       "        vertical-align: top;\n",
       "    }\n",
       "\n",
       "    .dataframe thead th {\n",
       "        text-align: right;\n",
       "    }\n",
       "</style>\n",
       "<table border=\"1\" class=\"dataframe\">\n",
       "  <thead>\n",
       "    <tr style=\"text-align: right;\">\n",
       "      <th></th>\n",
       "      <th>married</th>\n",
       "      <th>hourly_wage</th>\n",
       "      <th>years_in_education</th>\n",
       "    </tr>\n",
       "  </thead>\n",
       "  <tbody>\n",
       "    <tr>\n",
       "      <th>3</th>\n",
       "      <td>1.0</td>\n",
       "      <td>5.30</td>\n",
       "      <td>12.0</td>\n",
       "    </tr>\n",
       "    <tr>\n",
       "      <th>4</th>\n",
       "      <td>1.0</td>\n",
       "      <td>8.75</td>\n",
       "      <td>16.0</td>\n",
       "    </tr>\n",
       "    <tr>\n",
       "      <th>8</th>\n",
       "      <td>1.0</td>\n",
       "      <td>18.18</td>\n",
       "      <td>17.0</td>\n",
       "    </tr>\n",
       "    <tr>\n",
       "      <th>11</th>\n",
       "      <td>1.0</td>\n",
       "      <td>8.77</td>\n",
       "      <td>12.0</td>\n",
       "    </tr>\n",
       "    <tr>\n",
       "      <th>13</th>\n",
       "      <td>1.0</td>\n",
       "      <td>22.20</td>\n",
       "      <td>12.0</td>\n",
       "    </tr>\n",
       "    <tr>\n",
       "      <th>...</th>\n",
       "      <td>...</td>\n",
       "      <td>...</td>\n",
       "      <td>...</td>\n",
       "    </tr>\n",
       "    <tr>\n",
       "      <th>513</th>\n",
       "      <td>1.0</td>\n",
       "      <td>9.00</td>\n",
       "      <td>17.0</td>\n",
       "    </tr>\n",
       "    <tr>\n",
       "      <th>516</th>\n",
       "      <td>1.0</td>\n",
       "      <td>9.33</td>\n",
       "      <td>14.0</td>\n",
       "    </tr>\n",
       "    <tr>\n",
       "      <th>517</th>\n",
       "      <td>1.0</td>\n",
       "      <td>7.50</td>\n",
       "      <td>12.0</td>\n",
       "    </tr>\n",
       "    <tr>\n",
       "      <th>520</th>\n",
       "      <td>1.0</td>\n",
       "      <td>15.00</td>\n",
       "      <td>16.0</td>\n",
       "    </tr>\n",
       "    <tr>\n",
       "      <th>523</th>\n",
       "      <td>1.0</td>\n",
       "      <td>11.56</td>\n",
       "      <td>16.0</td>\n",
       "    </tr>\n",
       "  </tbody>\n",
       "</table>\n",
       "<p>159 rows × 3 columns</p>\n",
       "</div>"
      ],
      "text/plain": [
       "     married  hourly_wage  years_in_education\n",
       "3        1.0         5.30                12.0\n",
       "4        1.0         8.75                16.0\n",
       "8        1.0        18.18                17.0\n",
       "11       1.0         8.77                12.0\n",
       "13       1.0        22.20                12.0\n",
       "..       ...          ...                 ...\n",
       "513      1.0         9.00                17.0\n",
       "516      1.0         9.33                14.0\n",
       "517      1.0         7.50                12.0\n",
       "520      1.0        15.00                16.0\n",
       "523      1.0        11.56                16.0\n",
       "\n",
       "[159 rows x 3 columns]"
      ]
     },
     "execution_count": 15,
     "metadata": {},
     "output_type": "execute_result"
    }
   ],
   "source": [
    "subset"
   ]
  },
  {
   "cell_type": "markdown",
   "id": "96598f41",
   "metadata": {},
   "source": [
    "Conclusion: From the table above, it can be seen that we have a sum of 159 records which follow the criteria."
   ]
  },
  {
   "cell_type": "code",
   "execution_count": 16,
   "id": "0bf74434",
   "metadata": {
    "scrolled": true
   },
   "outputs": [
    {
     "data": {
      "text/html": [
       "<div>\n",
       "<style scoped>\n",
       "    .dataframe tbody tr th:only-of-type {\n",
       "        vertical-align: middle;\n",
       "    }\n",
       "\n",
       "    .dataframe tbody tr th {\n",
       "        vertical-align: top;\n",
       "    }\n",
       "\n",
       "    .dataframe thead th {\n",
       "        text-align: right;\n",
       "    }\n",
       "</style>\n",
       "<table border=\"1\" class=\"dataframe\">\n",
       "  <thead>\n",
       "    <tr style=\"text-align: right;\">\n",
       "      <th></th>\n",
       "      <th>married</th>\n",
       "      <th>hourly_wage</th>\n",
       "      <th>years_in_education</th>\n",
       "    </tr>\n",
       "  </thead>\n",
       "  <tbody>\n",
       "    <tr>\n",
       "      <th>count</th>\n",
       "      <td>159.0</td>\n",
       "      <td>159.000000</td>\n",
       "      <td>159.000000</td>\n",
       "    </tr>\n",
       "    <tr>\n",
       "      <th>mean</th>\n",
       "      <td>1.0</td>\n",
       "      <td>8.963459</td>\n",
       "      <td>13.880503</td>\n",
       "    </tr>\n",
       "    <tr>\n",
       "      <th>std</th>\n",
       "      <td>0.0</td>\n",
       "      <td>3.924356</td>\n",
       "      <td>2.123899</td>\n",
       "    </tr>\n",
       "    <tr>\n",
       "      <th>min</th>\n",
       "      <td>1.0</td>\n",
       "      <td>5.000000</td>\n",
       "      <td>10.000000</td>\n",
       "    </tr>\n",
       "    <tr>\n",
       "      <th>25%</th>\n",
       "      <td>1.0</td>\n",
       "      <td>6.250000</td>\n",
       "      <td>12.000000</td>\n",
       "    </tr>\n",
       "    <tr>\n",
       "      <th>50%</th>\n",
       "      <td>1.0</td>\n",
       "      <td>7.780000</td>\n",
       "      <td>14.000000</td>\n",
       "    </tr>\n",
       "    <tr>\n",
       "      <th>75%</th>\n",
       "      <td>1.0</td>\n",
       "      <td>10.000000</td>\n",
       "      <td>16.000000</td>\n",
       "    </tr>\n",
       "    <tr>\n",
       "      <th>max</th>\n",
       "      <td>1.0</td>\n",
       "      <td>22.860000</td>\n",
       "      <td>18.000000</td>\n",
       "    </tr>\n",
       "  </tbody>\n",
       "</table>\n",
       "</div>"
      ],
      "text/plain": [
       "       married  hourly_wage  years_in_education\n",
       "count    159.0   159.000000          159.000000\n",
       "mean       1.0     8.963459           13.880503\n",
       "std        0.0     3.924356            2.123899\n",
       "min        1.0     5.000000           10.000000\n",
       "25%        1.0     6.250000           12.000000\n",
       "50%        1.0     7.780000           14.000000\n",
       "75%        1.0    10.000000           16.000000\n",
       "max        1.0    22.860000           18.000000"
      ]
     },
     "execution_count": 16,
     "metadata": {},
     "output_type": "execute_result"
    }
   ],
   "source": [
    "subset.describe()"
   ]
  },
  {
   "cell_type": "markdown",
   "id": "bf048b1b",
   "metadata": {},
   "source": [
    "Conclusion: The above statistics shows results describing the variables of the subset in terms of;\n",
    "\n",
    "    count: showing the number of not empty values\n",
    "    mean: showing the average mean of each variable\n",
    "    std: showing the standard deviation of each variable\n",
    "    min: the minimum value in that variables dataset\n",
    "    max: the maximum value in the variables dataset\n",
    "    Percentages( 25% , 50% , 75%): showing the percentiles. meaning how many of the value are less than the given percentile"
   ]
  },
  {
   "cell_type": "markdown",
   "id": "1bc22b06",
   "metadata": {},
   "source": [
    "## 8. Statistical test of significance between 2 means of subset data"
   ]
  },
  {
   "cell_type": "code",
   "execution_count": 17,
   "id": "60eb7f12",
   "metadata": {},
   "outputs": [
    {
     "data": {
      "text/plain": [
       "Ttest_indResult(statistic=13.894742200286021, pvalue=1.0509554980617064e-32)"
      ]
     },
     "execution_count": 17,
     "metadata": {},
     "output_type": "execute_result"
    }
   ],
   "source": [
    "yie = subset['years_in_education']\n",
    "hw = subset['hourly_wage']\n",
    "ttest_ind(yie, hw, equal_var=False)"
   ]
  },
  {
   "cell_type": "markdown",
   "id": "655a5454",
   "metadata": {},
   "source": [
    "Conclusion: The above results means that, the chance of the t-value(13.89) if the assumption about the difference in mean will be true has a significance of 1.05e-32. In this case the assumption about the difference in mean would be that, the two means are not equal because the chance is too low due to the p-value being below the significant value of 0.05."
   ]
  },
  {
   "cell_type": "markdown",
   "id": "07c3cf32",
   "metadata": {},
   "source": [
    "## 9. Table that groups the data by a certain categorical variable"
   ]
  },
  {
   "cell_type": "markdown",
   "id": "4ee87dfc",
   "metadata": {},
   "source": [
    "The categorical variable \"gender\" is going to be grouped based on \"hourly_wage\""
   ]
  },
  {
   "cell_type": "code",
   "execution_count": 18,
   "id": "26ed2baf",
   "metadata": {},
   "outputs": [
    {
     "data": {
      "text/html": [
       "<div>\n",
       "<style scoped>\n",
       "    .dataframe tbody tr th:only-of-type {\n",
       "        vertical-align: middle;\n",
       "    }\n",
       "\n",
       "    .dataframe tbody tr th {\n",
       "        vertical-align: top;\n",
       "    }\n",
       "\n",
       "    .dataframe thead th {\n",
       "        text-align: right;\n",
       "    }\n",
       "</style>\n",
       "<table border=\"1\" class=\"dataframe\">\n",
       "  <thead>\n",
       "    <tr style=\"text-align: right;\">\n",
       "      <th></th>\n",
       "      <th>count</th>\n",
       "      <th>sum</th>\n",
       "      <th>mean</th>\n",
       "      <th>median</th>\n",
       "    </tr>\n",
       "    <tr>\n",
       "      <th>gender</th>\n",
       "      <th></th>\n",
       "      <th></th>\n",
       "      <th></th>\n",
       "      <th></th>\n",
       "    </tr>\n",
       "  </thead>\n",
       "  <tbody>\n",
       "    <tr>\n",
       "      <th>female</th>\n",
       "      <td>231</td>\n",
       "      <td>1067.99</td>\n",
       "      <td>4.623333</td>\n",
       "      <td>3.75</td>\n",
       "    </tr>\n",
       "    <tr>\n",
       "      <th>male</th>\n",
       "      <td>256</td>\n",
       "      <td>1811.08</td>\n",
       "      <td>7.074531</td>\n",
       "      <td>6.00</td>\n",
       "    </tr>\n",
       "  </tbody>\n",
       "</table>\n",
       "</div>"
      ],
      "text/plain": [
       "        count      sum      mean  median\n",
       "gender                                  \n",
       "female    231  1067.99  4.623333    3.75\n",
       "male      256  1811.08  7.074531    6.00"
      ]
     },
     "execution_count": 18,
     "metadata": {},
     "output_type": "execute_result"
    }
   ],
   "source": [
    "df.groupby(['gender'])['hourly_wage'].agg(['count','sum','mean','median'])"
   ]
  },
  {
   "cell_type": "markdown",
   "id": "d769b043",
   "metadata": {},
   "source": [
    "Conclusion: The above table shows a summary of the group with the count showing the number of females and males in the group, sum showing the total amount hourly_wage in each group, and the mean and median of value of hourly wage i each group."
   ]
  },
  {
   "cell_type": "markdown",
   "id": "c1ea87e5",
   "metadata": {},
   "source": [
    "## 10. Implementing linear regression model"
   ]
  },
  {
   "cell_type": "markdown",
   "id": "5a0e17b3",
   "metadata": {},
   "source": [
    "For this regression model I will be making use of the most important independent variables which is widely considered as a criteria for wage pay in every organisation.\n",
    "These variables are;\n",
    "\n",
    "     1.years_in_employment which denotes employees work experience and skills,\n",
    "     2.years_in_education which denotes the qualification of the employee.\n",
    " \n",
    "The reason for choosing these variables is because, the other variables are not widely considered as a criteria for wage pay as it violates employment law. That is, employers are prohibited from discriminating against applicants and employees based on non job-related factors like marital status, race etc."
   ]
  },
  {
   "cell_type": "markdown",
   "id": "21136870",
   "metadata": {},
   "source": [
    "## Importing packages"
   ]
  },
  {
   "cell_type": "code",
   "execution_count": 19,
   "id": "ca363bee",
   "metadata": {},
   "outputs": [],
   "source": [
    "from sklearn.model_selection import train_test_split\n",
    "from sklearn.linear_model import LinearRegression\n",
    "from sklearn import metrics"
   ]
  },
  {
   "cell_type": "markdown",
   "id": "3a81f73a",
   "metadata": {},
   "source": [
    "### Visual representation of how independent variables are correlated to the dependent variable"
   ]
  },
  {
   "cell_type": "code",
   "execution_count": 20,
   "id": "b40b919d",
   "metadata": {},
   "outputs": [
    {
     "data": {
      "image/png": "[encoded data removed]",
      "text/plain": [
       "<Figure size 576x288 with 2 Axes>"
      ]
     },
     "metadata": {
      "needs_background": "light"
     },
     "output_type": "display_data"
    }
   ],
   "source": [
    " \n",
    "sns.pairplot(df, x_vars=['years_in_education','years_in_employment'], y_vars='hourly_wage', height=4, aspect=1, kind='scatter')\n",
    "plt.show()"
   ]
  },
  {
   "cell_type": "markdown",
   "id": "ea6e7d59",
   "metadata": {},
   "source": [
    "Conclusion: The grahs above shows that both independent variables are strongly, low positively, non linearly correlated to the target variable('hourly_wage')"
   ]
  },
  {
   "cell_type": "markdown",
   "id": "49708c5e",
   "metadata": {},
   "source": [
    "#### Setting the value for x and y"
   ]
  },
  {
   "cell_type": "code",
   "execution_count": 21,
   "id": "39730809",
   "metadata": {},
   "outputs": [],
   "source": [
    "x = df[['years_in_education','years_in_employment']]\n",
    "y = df['hourly_wage']"
   ]
  },
  {
   "cell_type": "markdown",
   "id": "2c767dd4",
   "metadata": {},
   "source": [
    "### Splitting the dataset into train and test set"
   ]
  },
  {
   "cell_type": "code",
   "execution_count": 22,
   "id": "e8688953",
   "metadata": {},
   "outputs": [],
   "source": [
    "x_train, x_test, y_train, y_test= train_test_split(x, y, test_size=0.33, random_state=100) "
   ]
  },
  {
   "cell_type": "markdown",
   "id": "aedb3db4",
   "metadata": {},
   "source": [
    "We need a model that can perform well on unknown data, therefore we utilize test data to test the trained model's performance at the end. in this case the test size is 1/3 of the data."
   ]
  },
  {
   "cell_type": "markdown",
   "id": "6576a5ae",
   "metadata": {},
   "source": [
    "### Implementing the model"
   ]
  },
  {
   "cell_type": "code",
   "execution_count": 23,
   "id": "a54a3284",
   "metadata": {},
   "outputs": [
    {
     "data": {
      "text/plain": [
       "LinearRegression()"
      ]
     },
     "execution_count": 23,
     "metadata": {},
     "output_type": "execute_result"
    }
   ],
   "source": [
    "mlr = LinearRegression()  \n",
    "mlr.fit(x_train, y_train)"
   ]
  },
  {
   "cell_type": "markdown",
   "id": "3a448bbc",
   "metadata": {},
   "source": [
    "We cannot implement multiple regression so we implement it as linear and fit the object it to the data"
   ]
  },
  {
   "cell_type": "markdown",
   "id": "f28470dd",
   "metadata": {},
   "source": [
    "### Actual value, predicted value and the residual"
   ]
  },
  {
   "cell_type": "code",
   "execution_count": 24,
   "id": "ea00ceb3",
   "metadata": {},
   "outputs": [
    {
     "data": {
      "text/html": [
       "<div>\n",
       "<style scoped>\n",
       "    .dataframe tbody tr th:only-of-type {\n",
       "        vertical-align: middle;\n",
       "    }\n",
       "\n",
       "    .dataframe tbody tr th {\n",
       "        vertical-align: top;\n",
       "    }\n",
       "\n",
       "    .dataframe thead th {\n",
       "        text-align: right;\n",
       "    }\n",
       "</style>\n",
       "<table border=\"1\" class=\"dataframe\">\n",
       "  <thead>\n",
       "    <tr style=\"text-align: right;\">\n",
       "      <th></th>\n",
       "      <th>Actual hourly wage</th>\n",
       "      <th>Predicted hourly wage</th>\n",
       "      <th>Residual</th>\n",
       "    </tr>\n",
       "  </thead>\n",
       "  <tbody>\n",
       "    <tr>\n",
       "      <th>293</th>\n",
       "      <td>2.91</td>\n",
       "      <td>4.734780</td>\n",
       "      <td>1.824780</td>\n",
       "    </tr>\n",
       "    <tr>\n",
       "      <th>355</th>\n",
       "      <td>4.51</td>\n",
       "      <td>5.104654</td>\n",
       "      <td>0.594654</td>\n",
       "    </tr>\n",
       "    <tr>\n",
       "      <th>506</th>\n",
       "      <td>6.63</td>\n",
       "      <td>7.146335</td>\n",
       "      <td>0.516335</td>\n",
       "    </tr>\n",
       "    <tr>\n",
       "      <th>106</th>\n",
       "      <td>6.67</td>\n",
       "      <td>6.584154</td>\n",
       "      <td>-0.085846</td>\n",
       "    </tr>\n",
       "    <tr>\n",
       "      <th>471</th>\n",
       "      <td>2.65</td>\n",
       "      <td>6.584154</td>\n",
       "      <td>3.934154</td>\n",
       "    </tr>\n",
       "    <tr>\n",
       "      <th>...</th>\n",
       "      <td>...</td>\n",
       "      <td>...</td>\n",
       "      <td>...</td>\n",
       "    </tr>\n",
       "    <tr>\n",
       "      <th>236</th>\n",
       "      <td>3.25</td>\n",
       "      <td>4.734780</td>\n",
       "      <td>1.484780</td>\n",
       "    </tr>\n",
       "    <tr>\n",
       "      <th>395</th>\n",
       "      <td>3.10</td>\n",
       "      <td>1.021294</td>\n",
       "      <td>-2.078706</td>\n",
       "    </tr>\n",
       "    <tr>\n",
       "      <th>343</th>\n",
       "      <td>5.25</td>\n",
       "      <td>6.150177</td>\n",
       "      <td>0.900177</td>\n",
       "    </tr>\n",
       "    <tr>\n",
       "      <th>49</th>\n",
       "      <td>1.63</td>\n",
       "      <td>4.734780</td>\n",
       "      <td>3.104780</td>\n",
       "    </tr>\n",
       "    <tr>\n",
       "      <th>188</th>\n",
       "      <td>4.55</td>\n",
       "      <td>4.734780</td>\n",
       "      <td>0.184780</td>\n",
       "    </tr>\n",
       "  </tbody>\n",
       "</table>\n",
       "<p>161 rows × 3 columns</p>\n",
       "</div>"
      ],
      "text/plain": [
       "     Actual hourly wage  Predicted hourly wage  Residual\n",
       "293                2.91               4.734780  1.824780\n",
       "355                4.51               5.104654  0.594654\n",
       "506                6.63               7.146335  0.516335\n",
       "106                6.67               6.584154 -0.085846\n",
       "471                2.65               6.584154  3.934154\n",
       "..                  ...                    ...       ...\n",
       "236                3.25               4.734780  1.484780\n",
       "395                3.10               1.021294 -2.078706\n",
       "343                5.25               6.150177  0.900177\n",
       "49                 1.63               4.734780  3.104780\n",
       "188                4.55               4.734780  0.184780\n",
       "\n",
       "[161 rows x 3 columns]"
      ]
     },
     "execution_count": 24,
     "metadata": {},
     "output_type": "execute_result"
    }
   ],
   "source": [
    "y_pred=mlr.predict(x_test)\n",
    "mlr_diff = pd.DataFrame({'Actual hourly wage': y_test, 'Predicted hourly wage': y_pred, 'Residual':y_pred-y_test})\n",
    "mlr_diff"
   ]
  },
  {
   "cell_type": "markdown",
   "id": "2acc0dca",
   "metadata": {},
   "source": [
    "The actual value is the value obtained from observation or measuring of the available data. Whiles, the predicted value is the value of the variable predicted based on our regression analysis. the residual is the difference between the actual value and the predicted value"
   ]
  },
  {
   "cell_type": "code",
   "execution_count": 25,
   "id": "9152098e",
   "metadata": {},
   "outputs": [
    {
     "name": "stdout",
     "output_type": "stream",
     "text": [
      "R squared value for the model:  28.85375196159258\n"
     ]
    }
   ],
   "source": [
    "print(\"R squared value for the model: \",mlr.score(x,y)*100)"
   ]
  },
  {
   "cell_type": "markdown",
   "id": "2f51d78c",
   "metadata": {},
   "source": [
    "Conclusion: Due to the R-square value being 28.85, it means the model has a low effect. But R-square is just a measure of explanatory power and not  fit. You can generate lots of data with low R-square, because models are not expected to include all the relevant predictors to explain an outcome variable. R-square, even when small, can be significantly different from 0, indicating that the regression model has statistically significant explanatory power."
   ]
  },
  {
   "cell_type": "code",
   "execution_count": null,
   "id": "d466d8fc",
   "metadata": {},
   "outputs": [],
   "source": []
  },
  {
   "cell_type": "code",
   "execution_count": null,
   "id": "efa24615",
   "metadata": {},
   "outputs": [],
   "source": []
  },
  {
   "cell_type": "code",
   "execution_count": null,
   "id": "99273f06",
   "metadata": {},
   "outputs": [],
   "source": []
  },
  {
   "cell_type": "code",
   "execution_count": null,
   "id": "7a0016c1",
   "metadata": {},
   "outputs": [],
   "source": []
  },
  {
   "cell_type": "code",
   "execution_count": null,
   "id": "1d8a48d1",
   "metadata": {},
   "outputs": [],
   "source": []
  },
  {
   "cell_type": "code",
   "execution_count": null,
   "id": "cb9d8d29",
   "metadata": {},
   "outputs": [],
   "source": []
  }
 ],
 "metadata": {
  "kernelspec": {
   "display_name": "Python 3 (ipykernel)",
   "language": "python",
   "name": "python3"
  },
  "language_info": {
   "codemirror_mode": {
    "name": "ipython",
    "version": 3
   },
   "file_extension": ".py",
   "mimetype": "text/x-python",
   "name": "python",
   "nbconvert_exporter": "python",
   "pygments_lexer": "ipython3",
   "version": "3.9.7"
  }
 },
 "nbformat": 4,
 "nbformat_minor": 5
}
