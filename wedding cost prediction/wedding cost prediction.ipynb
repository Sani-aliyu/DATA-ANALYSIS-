{
 "cells": [
  {
   "cell_type": "code",
   "execution_count": 1,
   "id": "d160d454",
   "metadata": {},
   "outputs": [],
   "source": [
    "#Importing the libraries\n",
    "import pandas as pd\n",
    "import numpy as np\n",
    "import matplotlib.pyplot as plt\n",
    "import seaborn as sns"
   ]
  },
  {
   "cell_type": "code",
   "execution_count": 2,
   "id": "3f131d68",
   "metadata": {
    "scrolled": true
   },
   "outputs": [
    {
     "name": "stderr",
     "output_type": "stream",
     "text": [
      "C:\\Users\\SANI\\anaconda3\\lib\\site-packages\\openpyxl\\worksheet\\_reader.py:312: UserWarning: Unknown extension is not supported and will be removed\n",
      "  warn(msg)\n"
     ]
    },
    {
     "data": {
      "text/html": [
       "<div>\n",
       "<style scoped>\n",
       "    .dataframe tbody tr th:only-of-type {\n",
       "        vertical-align: middle;\n",
       "    }\n",
       "\n",
       "    .dataframe tbody tr th {\n",
       "        vertical-align: top;\n",
       "    }\n",
       "\n",
       "    .dataframe thead th {\n",
       "        text-align: right;\n",
       "    }\n",
       "</style>\n",
       "<table border=\"1\" class=\"dataframe\">\n",
       "  <thead>\n",
       "    <tr style=\"text-align: right;\">\n",
       "      <th></th>\n",
       "      <th>CoupleIncome</th>\n",
       "      <th>BrideAge</th>\n",
       "      <th>Payor</th>\n",
       "      <th>WeddingCost</th>\n",
       "      <th>Attendance</th>\n",
       "    </tr>\n",
       "  </thead>\n",
       "  <tbody>\n",
       "    <tr>\n",
       "      <th>0</th>\n",
       "      <td>130000</td>\n",
       "      <td>22</td>\n",
       "      <td>0</td>\n",
       "      <td>60700</td>\n",
       "      <td>300</td>\n",
       "    </tr>\n",
       "    <tr>\n",
       "      <th>1</th>\n",
       "      <td>157000</td>\n",
       "      <td>23</td>\n",
       "      <td>0</td>\n",
       "      <td>52000</td>\n",
       "      <td>350</td>\n",
       "    </tr>\n",
       "    <tr>\n",
       "      <th>2</th>\n",
       "      <td>98000</td>\n",
       "      <td>27</td>\n",
       "      <td>1</td>\n",
       "      <td>47000</td>\n",
       "      <td>150</td>\n",
       "    </tr>\n",
       "    <tr>\n",
       "      <th>3</th>\n",
       "      <td>72000</td>\n",
       "      <td>29</td>\n",
       "      <td>0</td>\n",
       "      <td>42000</td>\n",
       "      <td>200</td>\n",
       "    </tr>\n",
       "    <tr>\n",
       "      <th>4</th>\n",
       "      <td>86000</td>\n",
       "      <td>25</td>\n",
       "      <td>0</td>\n",
       "      <td>34000</td>\n",
       "      <td>250</td>\n",
       "    </tr>\n",
       "    <tr>\n",
       "      <th>5</th>\n",
       "      <td>90000</td>\n",
       "      <td>28</td>\n",
       "      <td>0</td>\n",
       "      <td>30500</td>\n",
       "      <td>150</td>\n",
       "    </tr>\n",
       "    <tr>\n",
       "      <th>6</th>\n",
       "      <td>43000</td>\n",
       "      <td>19</td>\n",
       "      <td>1</td>\n",
       "      <td>30000</td>\n",
       "      <td>250</td>\n",
       "    </tr>\n",
       "    <tr>\n",
       "      <th>7</th>\n",
       "      <td>100000</td>\n",
       "      <td>30</td>\n",
       "      <td>0</td>\n",
       "      <td>30000</td>\n",
       "      <td>300</td>\n",
       "    </tr>\n",
       "    <tr>\n",
       "      <th>8</th>\n",
       "      <td>65000</td>\n",
       "      <td>24</td>\n",
       "      <td>0</td>\n",
       "      <td>28000</td>\n",
       "      <td>250</td>\n",
       "    </tr>\n",
       "    <tr>\n",
       "      <th>9</th>\n",
       "      <td>78000</td>\n",
       "      <td>35</td>\n",
       "      <td>0</td>\n",
       "      <td>26000</td>\n",
       "      <td>200</td>\n",
       "    </tr>\n",
       "    <tr>\n",
       "      <th>10</th>\n",
       "      <td>73000</td>\n",
       "      <td>25</td>\n",
       "      <td>0</td>\n",
       "      <td>25000</td>\n",
       "      <td>150</td>\n",
       "    </tr>\n",
       "    <tr>\n",
       "      <th>11</th>\n",
       "      <td>75000</td>\n",
       "      <td>27</td>\n",
       "      <td>1</td>\n",
       "      <td>24000</td>\n",
       "      <td>200</td>\n",
       "    </tr>\n",
       "    <tr>\n",
       "      <th>12</th>\n",
       "      <td>64000</td>\n",
       "      <td>25</td>\n",
       "      <td>0</td>\n",
       "      <td>24000</td>\n",
       "      <td>200</td>\n",
       "    </tr>\n",
       "    <tr>\n",
       "      <th>13</th>\n",
       "      <td>67000</td>\n",
       "      <td>27</td>\n",
       "      <td>1</td>\n",
       "      <td>22000</td>\n",
       "      <td>200</td>\n",
       "    </tr>\n",
       "    <tr>\n",
       "      <th>14</th>\n",
       "      <td>75000</td>\n",
       "      <td>25</td>\n",
       "      <td>0</td>\n",
       "      <td>20000</td>\n",
       "      <td>200</td>\n",
       "    </tr>\n",
       "    <tr>\n",
       "      <th>15</th>\n",
       "      <td>67000</td>\n",
       "      <td>30</td>\n",
       "      <td>0</td>\n",
       "      <td>20000</td>\n",
       "      <td>200</td>\n",
       "    </tr>\n",
       "    <tr>\n",
       "      <th>16</th>\n",
       "      <td>62000</td>\n",
       "      <td>21</td>\n",
       "      <td>1</td>\n",
       "      <td>20000</td>\n",
       "      <td>100</td>\n",
       "    </tr>\n",
       "    <tr>\n",
       "      <th>17</th>\n",
       "      <td>75000</td>\n",
       "      <td>19</td>\n",
       "      <td>0</td>\n",
       "      <td>19000</td>\n",
       "      <td>150</td>\n",
       "    </tr>\n",
       "    <tr>\n",
       "      <th>18</th>\n",
       "      <td>52000</td>\n",
       "      <td>23</td>\n",
       "      <td>0</td>\n",
       "      <td>19000</td>\n",
       "      <td>200</td>\n",
       "    </tr>\n",
       "    <tr>\n",
       "      <th>19</th>\n",
       "      <td>64000</td>\n",
       "      <td>22</td>\n",
       "      <td>0</td>\n",
       "      <td>18000</td>\n",
       "      <td>150</td>\n",
       "    </tr>\n",
       "    <tr>\n",
       "      <th>20</th>\n",
       "      <td>55000</td>\n",
       "      <td>28</td>\n",
       "      <td>0</td>\n",
       "      <td>16000</td>\n",
       "      <td>100</td>\n",
       "    </tr>\n",
       "    <tr>\n",
       "      <th>21</th>\n",
       "      <td>53000</td>\n",
       "      <td>31</td>\n",
       "      <td>1</td>\n",
       "      <td>14000</td>\n",
       "      <td>100</td>\n",
       "    </tr>\n",
       "    <tr>\n",
       "      <th>22</th>\n",
       "      <td>62000</td>\n",
       "      <td>24</td>\n",
       "      <td>0</td>\n",
       "      <td>13000</td>\n",
       "      <td>150</td>\n",
       "    </tr>\n",
       "    <tr>\n",
       "      <th>23</th>\n",
       "      <td>40000</td>\n",
       "      <td>26</td>\n",
       "      <td>0</td>\n",
       "      <td>7000</td>\n",
       "      <td>50</td>\n",
       "    </tr>\n",
       "    <tr>\n",
       "      <th>24</th>\n",
       "      <td>45000</td>\n",
       "      <td>32</td>\n",
       "      <td>1</td>\n",
       "      <td>5000</td>\n",
       "      <td>50</td>\n",
       "    </tr>\n",
       "  </tbody>\n",
       "</table>\n",
       "</div>"
      ],
      "text/plain": [
       "    CoupleIncome  BrideAge  Payor  WeddingCost  Attendance\n",
       "0         130000        22      0        60700         300\n",
       "1         157000        23      0        52000         350\n",
       "2          98000        27      1        47000         150\n",
       "3          72000        29      0        42000         200\n",
       "4          86000        25      0        34000         250\n",
       "5          90000        28      0        30500         150\n",
       "6          43000        19      1        30000         250\n",
       "7         100000        30      0        30000         300\n",
       "8          65000        24      0        28000         250\n",
       "9          78000        35      0        26000         200\n",
       "10         73000        25      0        25000         150\n",
       "11         75000        27      1        24000         200\n",
       "12         64000        25      0        24000         200\n",
       "13         67000        27      1        22000         200\n",
       "14         75000        25      0        20000         200\n",
       "15         67000        30      0        20000         200\n",
       "16         62000        21      1        20000         100\n",
       "17         75000        19      0        19000         150\n",
       "18         52000        23      0        19000         200\n",
       "19         64000        22      0        18000         150\n",
       "20         55000        28      0        16000         100\n",
       "21         53000        31      1        14000         100\n",
       "22         62000        24      0        13000         150\n",
       "23         40000        26      0         7000          50\n",
       "24         45000        32      1         5000          50"
      ]
     },
     "execution_count": 2,
     "metadata": {},
     "output_type": "execute_result"
    }
   ],
   "source": [
    "dataset = pd.read_excel(\"Weddings.xlsx\")\n",
    "dataset.head(26)"
   ]
  },
  {
   "cell_type": "code",
   "execution_count": 3,
   "id": "50d8fd93",
   "metadata": {},
   "outputs": [
    {
     "data": {
      "text/plain": [
       "(25, 5)"
      ]
     },
     "execution_count": 3,
     "metadata": {},
     "output_type": "execute_result"
    }
   ],
   "source": [
    "dataset.shape"
   ]
  },
  {
   "cell_type": "code",
   "execution_count": 4,
   "id": "b60a55ea",
   "metadata": {},
   "outputs": [
    {
     "data": {
      "text/plain": [
       "CoupleIncome    0\n",
       "BrideAge        0\n",
       "Payor           0\n",
       "WeddingCost     0\n",
       "Attendance      0\n",
       "dtype: int64"
      ]
     },
     "execution_count": 4,
     "metadata": {},
     "output_type": "execute_result"
    }
   ],
   "source": [
    "#checking for missing values\n",
    "dataset.isnull().sum()"
   ]
  },
  {
   "cell_type": "code",
   "execution_count": 5,
   "id": "b7bdf384",
   "metadata": {},
   "outputs": [
    {
     "data": {
      "text/plain": [
       "False"
      ]
     },
     "execution_count": 5,
     "metadata": {},
     "output_type": "execute_result"
    }
   ],
   "source": [
    "#checking for duplicate rows\n",
    "dataset.duplicated().any()"
   ]
  },
  {
   "cell_type": "code",
   "execution_count": 6,
   "id": "0be383a2",
   "metadata": {},
   "outputs": [
    {
     "data": {
      "image/png": "[encoded data removed]",
      "text/plain": [
       "<Figure size 1152x288 with 4 Axes>"
      ]
     },
     "metadata": {
      "needs_background": "light"
     },
     "output_type": "display_data"
    }
   ],
   "source": [
    "# visual representation of how independent variables are correlated to the dependent variable \n",
    "sns.pairplot(dataset, x_vars=['CoupleIncome', 'BrideAge', 'Payor','Attendance'], y_vars='WeddingCost', height=4, aspect=1, kind='scatter')\n",
    "plt.show()"
   ]
  },
  {
   "cell_type": "markdown",
   "id": "8499a570",
   "metadata": {},
   "source": [
    "CoupleIncome is strongly, positively and linearly correlated to the target variable whiles the Payor and the BrideAge \n",
    "seems to be uncorrelated to the target value"
   ]
  },
  {
   "cell_type": "code",
   "execution_count": 7,
   "id": "22b37ddf",
   "metadata": {},
   "outputs": [],
   "source": [
    "#setting the value for x and y\n",
    "x = dataset[['CoupleIncome', 'BrideAge', 'Payor','Attendance']]\n",
    "y = dataset['WeddingCost']\n"
   ]
  },
  {
   "cell_type": "code",
   "execution_count": 8,
   "id": "290b862a",
   "metadata": {},
   "outputs": [],
   "source": [
    "#splitting the dataset into train and test set\n",
    "from sklearn.model_selection import train_test_split\n",
    "x_train, x_test, y_train, y_test= train_test_split(x, y, test_size=0.33, random_state=100) \n"
   ]
  },
  {
   "cell_type": "code",
   "execution_count": 9,
   "id": "3cd35921",
   "metadata": {},
   "outputs": [
    {
     "data": {
      "text/plain": [
       "LinearRegression()"
      ]
     },
     "execution_count": 9,
     "metadata": {},
     "output_type": "execute_result"
    }
   ],
   "source": [
    "#implementing the model\n",
    "from sklearn.linear_model import LinearRegression\n",
    "\n",
    "mlr = LinearRegression()  \n",
    "mlr.fit(x_train, y_train) \n"
   ]
  },
  {
   "cell_type": "code",
   "execution_count": 10,
   "id": "263c38e9",
   "metadata": {},
   "outputs": [
    {
     "name": "stdout",
     "output_type": "stream",
     "text": [
      "intercept:  -5851.116182584919\n",
      "coefficients; \n"
     ]
    },
    {
     "data": {
      "text/plain": [
       "[('CoupleIncome', 0.3504026983713417),\n",
       " ('BrideAge', -83.04290196759429),\n",
       " ('Payor', 3990.8375213188087),\n",
       " ('Attendance', 41.305716583602766)]"
      ]
     },
     "execution_count": 10,
     "metadata": {},
     "output_type": "execute_result"
    }
   ],
   "source": [
    "#model equation\n",
    "print('intercept: ',mlr.intercept_)\n",
    "print(\"coefficients; \") \n",
    "list(zip(x,mlr.coef_))\n"
   ]
  },
  {
   "cell_type": "code",
   "execution_count": 11,
   "id": "edb990de",
   "metadata": {},
   "outputs": [
    {
     "data": {
      "text/html": [
       "<div>\n",
       "<style scoped>\n",
       "    .dataframe tbody tr th:only-of-type {\n",
       "        vertical-align: middle;\n",
       "    }\n",
       "\n",
       "    .dataframe tbody tr th {\n",
       "        vertical-align: top;\n",
       "    }\n",
       "\n",
       "    .dataframe thead th {\n",
       "        text-align: right;\n",
       "    }\n",
       "</style>\n",
       "<table border=\"1\" class=\"dataframe\">\n",
       "  <thead>\n",
       "    <tr style=\"text-align: right;\">\n",
       "      <th></th>\n",
       "      <th>Actual WeddingCost</th>\n",
       "      <th>Predicted WeddingCost</th>\n",
       "      <th>Residual</th>\n",
       "    </tr>\n",
       "  </thead>\n",
       "  <tbody>\n",
       "    <tr>\n",
       "      <th>9</th>\n",
       "      <td>26000</td>\n",
       "      <td>26834.936038</td>\n",
       "      <td>834.936038</td>\n",
       "    </tr>\n",
       "    <tr>\n",
       "      <th>22</th>\n",
       "      <td>13000</td>\n",
       "      <td>20076.678957</td>\n",
       "      <td>7076.678957</td>\n",
       "    </tr>\n",
       "    <tr>\n",
       "      <th>13</th>\n",
       "      <td>22000</td>\n",
       "      <td>27635.687093</td>\n",
       "      <td>5635.687093</td>\n",
       "    </tr>\n",
       "    <tr>\n",
       "      <th>11</th>\n",
       "      <td>24000</td>\n",
       "      <td>30438.908680</td>\n",
       "      <td>6438.908680</td>\n",
       "    </tr>\n",
       "    <tr>\n",
       "      <th>5</th>\n",
       "      <td>30500</td>\n",
       "      <td>29555.782903</td>\n",
       "      <td>-944.217097</td>\n",
       "    </tr>\n",
       "    <tr>\n",
       "      <th>19</th>\n",
       "      <td>18000</td>\n",
       "      <td>20943.570157</td>\n",
       "      <td>2943.570157</td>\n",
       "    </tr>\n",
       "    <tr>\n",
       "      <th>23</th>\n",
       "      <td>7000</td>\n",
       "      <td>8071.162130</td>\n",
       "      <td>1071.162130</td>\n",
       "    </tr>\n",
       "    <tr>\n",
       "      <th>21</th>\n",
       "      <td>14000</td>\n",
       "      <td>18267.306050</td>\n",
       "      <td>4267.306050</td>\n",
       "    </tr>\n",
       "    <tr>\n",
       "      <th>6</th>\n",
       "      <td>30000</td>\n",
       "      <td>21955.651377</td>\n",
       "      <td>-8044.348623</td>\n",
       "    </tr>\n",
       "  </tbody>\n",
       "</table>\n",
       "</div>"
      ],
      "text/plain": [
       "    Actual WeddingCost  Predicted WeddingCost     Residual\n",
       "9                26000           26834.936038   834.936038\n",
       "22               13000           20076.678957  7076.678957\n",
       "13               22000           27635.687093  5635.687093\n",
       "11               24000           30438.908680  6438.908680\n",
       "5                30500           29555.782903  -944.217097\n",
       "19               18000           20943.570157  2943.570157\n",
       "23                7000            8071.162130  1071.162130\n",
       "21               14000           18267.306050  4267.306050\n",
       "6                30000           21955.651377 -8044.348623"
      ]
     },
     "execution_count": 11,
     "metadata": {},
     "output_type": "execute_result"
    }
   ],
   "source": [
    "#Actual value and the predicted value\n",
    "y_pred=mlr.predict(x_test)\n",
    "mlr_diff = pd.DataFrame({'Actual WeddingCost': y_test, 'Predicted WeddingCost': y_pred, 'Residual':y_pred-y_test})\n",
    "mlr_diff"
   ]
  },
  {
   "cell_type": "code",
   "execution_count": 12,
   "id": "8672db68",
   "metadata": {},
   "outputs": [
    {
     "name": "stdout",
     "output_type": "stream",
     "text": [
      "R squared value for the model:  74.4335024530915\n"
     ]
    }
   ],
   "source": [
    "from sklearn import metrics\n",
    "\n",
    "print(\"R squared value for the model: \",mlr.score(x,y)*100)"
   ]
  },
  {
   "cell_type": "markdown",
   "id": "e6460fe1",
   "metadata": {},
   "source": [
    "The model is good enough for predicting the wedding cost because 74.43% of the data fits the model"
   ]
  },
  {
   "cell_type": "code",
   "execution_count": 13,
   "id": "9f295f37",
   "metadata": {},
   "outputs": [
    {
     "data": {
      "text/plain": [
       "array([33677.23829175])"
      ]
     },
     "execution_count": 13,
     "metadata": {},
     "output_type": "execute_result"
    }
   ],
   "source": [
    "#Prediction for (coupleIncome:$10000, guests:175 ,bride's age 33 and payor:Bride's Family(0)\n",
    "mlr.predict([[100000, 33, 0, 175]])"
   ]
  },
  {
   "cell_type": "markdown",
   "id": "b1c24357",
   "metadata": {},
   "source": [
    "The model predicted the wedding cost of $33677.24 for the given set of data"
   ]
  },
  {
   "cell_type": "code",
   "execution_count": null,
   "id": "138848b0",
   "metadata": {},
   "outputs": [],
   "source": []
  },
  {
   "cell_type": "code",
   "execution_count": null,
   "id": "b28c7069",
   "metadata": {},
   "outputs": [],
   "source": []
  },
  {
   "cell_type": "code",
   "execution_count": null,
   "id": "ce770316",
   "metadata": {},
   "outputs": [],
   "source": []
  },
  {
   "cell_type": "code",
   "execution_count": null,
   "id": "127def17",
   "metadata": {},
   "outputs": [],
   "source": []
  }
 ],
 "metadata": {
  "kernelspec": {
   "display_name": "Python 3 (ipykernel)",
   "language": "python",
   "name": "python3"
  },
  "language_info": {
   "codemirror_mode": {
    "name": "ipython",
    "version": 3
   },
   "file_extension": ".py",
   "mimetype": "text/x-python",
   "name": "python",
   "nbconvert_exporter": "python",
   "pygments_lexer": "ipython3",
   "version": "3.9.7"
  }
 },
 "nbformat": 4,
 "nbformat_minor": 5
}
